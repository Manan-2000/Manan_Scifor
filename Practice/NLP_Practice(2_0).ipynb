{
  "nbformat": 4,
  "nbformat_minor": 0,
  "metadata": {
    "colab": {
      "provenance": []
    },
    "kernelspec": {
      "name": "python3",
      "display_name": "Python 3"
    },
    "language_info": {
      "name": "python"
    }
  },
  "cells": [
    {
      "cell_type": "code",
      "execution_count": 68,
      "metadata": {
        "colab": {
          "base_uri": "https://localhost:8080/"
        },
        "id": "ns4F3lPyd6Qf",
        "outputId": "18c68c51-1344-4797-b1e2-b10e412d57fe"
      },
      "outputs": [
        {
          "output_type": "stream",
          "name": "stderr",
          "text": [
            "[nltk_data] Downloading package stopwords to /root/nltk_data...\n",
            "[nltk_data]   Package stopwords is already up-to-date!\n",
            "[nltk_data] Downloading package punkt to /root/nltk_data...\n",
            "[nltk_data]   Package punkt is already up-to-date!\n",
            "[nltk_data] Downloading package wordnet to /root/nltk_data...\n",
            "[nltk_data]   Package wordnet is already up-to-date!\n",
            "[nltk_data] Downloading package averaged_perceptron_tagger to\n",
            "[nltk_data]     /root/nltk_data...\n",
            "[nltk_data]   Package averaged_perceptron_tagger is already up-to-\n",
            "[nltk_data]       date!\n",
            "[nltk_data] Downloading package maxent_ne_chunker to\n",
            "[nltk_data]     /root/nltk_data...\n",
            "[nltk_data]   Package maxent_ne_chunker is already up-to-date!\n",
            "[nltk_data] Downloading package words to /root/nltk_data...\n",
            "[nltk_data]   Package words is already up-to-date!\n"
          ]
        }
      ],
      "source": [
        "import numpy\n",
        "import pandas\n",
        "import nltk\n",
        "import string\n",
        "import re\n",
        "import inflect\n",
        "from nltk.corpus import stopwords\n",
        "from nltk.tokenize import word_tokenize,WhitespaceTokenizer\n",
        "nltk.download('stopwords')\n",
        "nltk.download('punkt')\n",
        "from nltk.stem import PorterStemmer\n",
        "stem1=PorterStemmer()\n",
        "from nltk.stem import wordnet\n",
        "lemma=wordnet.WordNetLemmatizer()\n",
        "nltk.download('wordnet')\n",
        "from nltk import pos_tag\n",
        "nltk.download('averaged_perceptron_tagger')\n",
        "from nltk import ne_chunk\n",
        "nltk.download('maxent_ne_chunker')\n",
        "nltk.download('words')\n",
        "from nltk.tokenize.regexp import WordPunctTokenizer\n",
        "from nltk.tokenize import sent_tokenize\n",
        "from nltk import FreqDist"
      ]
    },
    {
      "cell_type": "code",
      "source": [
        "#Python String\n",
        "a='data'\n",
        "print(a)\n",
        "\n",
        "#Strings as Arrays\n",
        "a='Dataset'\n",
        "print(a[3])\n",
        "\n",
        "#Slicing in String\n",
        "print(a[3:6],a[-6:-2])\n",
        "\n",
        "#String Methods\n",
        "print(a.lower(),a.upper(),a.split('a'),a.replace('a','r'))\n",
        "\n",
        "#String Concatination\n",
        "b='Training'\n",
        "print(a+' '+b)"
      ],
      "metadata": {
        "colab": {
          "base_uri": "https://localhost:8080/"
        },
        "id": "pg78Xvptei3_",
        "outputId": "960fb867-24a6-40ca-f6eb-6fe4a0d08677"
      },
      "execution_count": 8,
      "outputs": [
        {
          "output_type": "stream",
          "name": "stdout",
          "text": [
            "data\n",
            "a\n",
            "ase atas\n",
            "dataset DATASET ['D', 't', 'set'] Drtrset\n",
            "Dataset Training\n"
          ]
        }
      ]
    },
    {
      "cell_type": "code",
      "source": [
        "#Creating a Text File\n",
        "f=open('practice.txt','w+')\n",
        "for i in range(3):\n",
        "  f.write('This is line %d\\n'%(i+1))\n",
        "f.close()\n",
        "\n",
        "#Apending in File\n",
        "f=open('practice.txt','a+')\n",
        "for i in range(3):\n",
        "  f.write('New line %d\\n'%(i+1))\n",
        "f.close()\n",
        "\n",
        "#Reading the File\n",
        "f=open('practice.txt','r+')\n",
        "print(f.read())\n",
        "print('Complete')\n",
        "f.close()"
      ],
      "metadata": {
        "colab": {
          "base_uri": "https://localhost:8080/"
        },
        "id": "n1wRS3lkgESG",
        "outputId": "968ba521-d1cc-4df2-aba8-bbb7ed42b499"
      },
      "execution_count": 13,
      "outputs": [
        {
          "output_type": "stream",
          "name": "stdout",
          "text": [
            "This is line 1\n",
            "This is line 2\n",
            "This is line 3\n",
            "New line 1\n",
            "New line 2\n",
            "New line 3\n",
            "\n",
            "Complete\n"
          ]
        }
      ]
    },
    {
      "cell_type": "code",
      "source": [
        "#Converting text to lowercase\n",
        "def lowercase(inp):\n",
        "  return inp.lower()\n",
        "inp_str=\"Data-Science 123, is 4 an Awesome field. 221\"\n",
        "print(lowercase(inp_str))\n",
        "\n",
        "#Removing numbers\n",
        "def rem_no(inp):\n",
        "  result=re.sub(r'\\d',' ',inp)\n",
        "  return result\n",
        "print(rem_no(inp_str))\n",
        "\n",
        "#Convert number to words\n",
        "def num2word(inp):\n",
        "  res=[]\n",
        "  for i in inp.split():\n",
        "    if i.isdigit():\n",
        "      w=inflect.engine().number_to_words(int(i))\n",
        "      res.append(w)\n",
        "    else:\n",
        "      res.append(i)\n",
        "  return ' '.join(res)\n",
        "print(num2word(inp_str))\n",
        "\n",
        "#Remove Puctuations\n",
        "def rem_punc(inp):\n",
        "  t=str.maketrans('','',string.punctuation)\n",
        "  return inp.translate(t)\n",
        "print(rem_punc(inp_str))\n",
        "\n",
        "#Remove Stopwords\n",
        "def rem_sword(inp):\n",
        "  sword=stopwords.words('english')\n",
        "  token=word_tokenize(inp)\n",
        "  result=[]\n",
        "  for i in token:\n",
        "    if i not in sword:\n",
        "      result.append(i)\n",
        "  return ' '.join(result)\n",
        "print(rem_sword(inp_str))"
      ],
      "metadata": {
        "colab": {
          "base_uri": "https://localhost:8080/"
        },
        "id": "UnFSGjkchbNv",
        "outputId": "0f3ba823-a04d-465f-d66c-8bdb25b125d8"
      },
      "execution_count": 25,
      "outputs": [
        {
          "output_type": "stream",
          "name": "stdout",
          "text": [
            "data-science 123, is 4 an awesome field. 221\n",
            "Data-Science    , is   an Awesome field.    \n",
            "Data-Science 123, is four an Awesome field. two hundred and twenty-one\n",
            "DataScience 123 is 4 an Awesome field 221\n",
            "Data-Science 123 , 4 Awesome field . 221\n"
          ]
        }
      ]
    },
    {
      "cell_type": "code",
      "source": [
        "#Stemming\n",
        "def stem_words(text):\n",
        "  word_tokens=word_tokenize(text)\n",
        "  stem=[stem1.stem(i) for i in word_tokens]\n",
        "  return(stem)\n",
        "text=\"Data is a new revolution in the world, in a day one individual would generate terabytes of data.\"\n",
        "print(\"Stemming Result\")\n",
        "print(stem_words(text))\n",
        "print('\\n')\n",
        "\n",
        "#Lematization\n",
        "def lemma_words(text):\n",
        "  word_tokens=word_tokenize(text)\n",
        "  l=[lemma.lemmatize(i) for i in word_tokens]\n",
        "  return(l)\n",
        "print(\"Lemmatization Result\")\n",
        "print(lemma_words(text))"
      ],
      "metadata": {
        "colab": {
          "base_uri": "https://localhost:8080/"
        },
        "id": "l-u-NhnKlKMG",
        "outputId": "4461cf2a-0686-4012-b58a-000cad36eef3"
      },
      "execution_count": 32,
      "outputs": [
        {
          "output_type": "stream",
          "name": "stdout",
          "text": [
            "Stemming Result\n",
            "['data', 'is', 'a', 'new', 'revolut', 'in', 'the', 'world', ',', 'in', 'a', 'day', 'one', 'individu', 'would', 'gener', 'terabyt', 'of', 'data', '.']\n",
            "\n",
            "\n",
            "Lemmatization Result\n",
            "['Data', 'is', 'a', 'new', 'revolution', 'in', 'the', 'world', ',', 'in', 'a', 'day', 'one', 'individual', 'would', 'generate', 'terabyte', 'of', 'data', '.']\n"
          ]
        }
      ]
    },
    {
      "cell_type": "code",
      "source": [
        "#Parts of speech tagging\n",
        "def pos_tagging(text):\n",
        "  word_token=word_tokenize(text)\n",
        "  return (pos_tag(word_token))\n",
        "print(pos_tagging('Are you afraid of something?'))\n",
        "\n",
        "#Chunking\n",
        "def chunking(text,grammer):\n",
        "  word_token=word_tokenize(text)\n",
        "  word_pos=pos_tag(word_token)\n",
        "  chunk_parser=nltk.RegexpParser(grammer)\n",
        "  tree=chunk_parser.parse(word_pos)\n",
        "  for i in tree.subtrees():\n",
        "    print(i)\n",
        "sentence='the little red parrot is flying in the sky'\n",
        "grammer=\"NP:{<DT>?<JJ>*<NN>}\"\n",
        "print(chunking(sentence,grammer))\n",
        "\n",
        "#Name entity recognition\n",
        "def ner(text):\n",
        "  word_token=word_tokenize(text)\n",
        "  word_pos=pos_tag(word_token)\n",
        "  print(ne_chunk(word_pos))\n",
        "text='Brain Lara scored the highest 400 runs in a Test match which was played between West Indies and England in 2017.'\n",
        "ner(text)"
      ],
      "metadata": {
        "colab": {
          "base_uri": "https://localhost:8080/"
        },
        "id": "oBUPBqJolsut",
        "outputId": "a59ac04c-c725-4424-e27e-4fc16362edec"
      },
      "execution_count": 38,
      "outputs": [
        {
          "output_type": "stream",
          "name": "stdout",
          "text": [
            "[('Are', 'NNP'), ('you', 'PRP'), ('afraid', 'IN'), ('of', 'IN'), ('something', 'NN'), ('?', '.')]\n",
            "(S\n",
            "  (NP the/DT little/JJ red/JJ parrot/NN)\n",
            "  is/VBZ\n",
            "  flying/VBG\n",
            "  in/IN\n",
            "  (NP the/DT sky/NN))\n",
            "(NP the/DT little/JJ red/JJ parrot/NN)\n",
            "(NP the/DT sky/NN)\n",
            "None\n",
            "(S\n",
            "  (PERSON Brain/NNP)\n",
            "  (PERSON Lara/NNP)\n",
            "  scored/VBD\n",
            "  the/DT\n",
            "  highest/JJS\n",
            "  400/CD\n",
            "  runs/NNS\n",
            "  in/IN\n",
            "  a/DT\n",
            "  (GPE Test/NNP)\n",
            "  match/NN\n",
            "  which/WDT\n",
            "  was/VBD\n",
            "  played/VBN\n",
            "  between/IN\n",
            "  (GPE West/NNP Indies/NNPS)\n",
            "  and/CC\n",
            "  (GPE England/NNP)\n",
            "  in/IN\n",
            "  2017/CD\n",
            "  ./.)\n"
          ]
        }
      ]
    },
    {
      "cell_type": "code",
      "source": [
        "#Regular Expressions\n",
        "sent = \"dataset, Data is a new fuel\"\n",
        "r2 = re.findall(r\"^\\w+\", sent)\n",
        "print(r2)\n",
        "r3=re.findall(r'^\\w',sent)\n",
        "print(r3)\n",
        "\n",
        "#\\s expression in re.split\n",
        "print((re.split(r'\\s','we splitted this sentence')))\n",
        "print((re.split(r's','we splitted this sentence')))\n",
        "\n",
        "#using re.match\n",
        "lst=['icecream images','i immitated','inner peace']\n",
        "for i in lst:\n",
        "  a=re.match(\"(i\\w+)\\W(i\\w+)\",i)\n",
        "  if a:\n",
        "    print((a.groups()))\n",
        "\n",
        "#finding pattern in the text(re.search)\n",
        "pattern=[\"playing\",\"dataset\"]\n",
        "text=\"Raju is playing outside\"\n",
        "for p in pattern:\n",
        "  print(\"you are looking for '{}' in '{}'\".format(p,text),end='  ')\n",
        "  if re.search(p,text):\n",
        "    print(\"Found a match!\")\n",
        "  else:\n",
        "    print(\"No match\")\n",
        "\n",
        "#using re.findall\n",
        "x=\"abc@gmail.com,xyz@gmail.com,lmn@gmail.com,efg@gmail.com\"\n",
        "y=re.findall(r'[\\w\\.-]+@[\\w\\.-]+',x)\n",
        "for i in y:\n",
        "  print(i)"
      ],
      "metadata": {
        "colab": {
          "base_uri": "https://localhost:8080/"
        },
        "id": "vrOSz88lmwTd",
        "outputId": "24749df9-5e7e-425e-e868-d8dad25132f9"
      },
      "execution_count": 39,
      "outputs": [
        {
          "output_type": "stream",
          "name": "stdout",
          "text": [
            "['dataset']\n",
            "['d']\n",
            "['we', 'splitted', 'this', 'sentence']\n",
            "['we ', 'plitted thi', ' ', 'entence']\n",
            "('icecream', 'images')\n",
            "you are looking for 'playing' in 'Raju is playing outside'  Found a match!\n",
            "you are looking for 'dataset' in 'Raju is playing outside'  No match\n",
            "abc@gmail.com\n",
            "xyz@gmail.com\n",
            "lmn@gmail.com\n",
            "efg@gmail.com\n"
          ]
        }
      ]
    },
    {
      "cell_type": "code",
      "source": [
        "#Text Normalization\n",
        "#Tokenization\n",
        "text=\"Founded in 2002, SpaceX's mission is to enable humans to become a spacefaring civilization and a multi-planet species by building a self-sustaining city on Mars. In 2008, SpaceX's Falcon 1 became the first privately developed liquid-fuel launch vehicle to orbit the Earth.\"\n",
        "word_tokenize(text)"
      ],
      "metadata": {
        "colab": {
          "base_uri": "https://localhost:8080/"
        },
        "id": "P7iVNs5jnGAV",
        "outputId": "05165709-ff2a-43c2-ffa2-138e80728faf"
      },
      "execution_count": 72,
      "outputs": [
        {
          "output_type": "execute_result",
          "data": {
            "text/plain": [
              "['Founded',\n",
              " 'in',\n",
              " '2002',\n",
              " ',',\n",
              " 'SpaceX',\n",
              " \"'s\",\n",
              " 'mission',\n",
              " 'is',\n",
              " 'to',\n",
              " 'enable',\n",
              " 'humans',\n",
              " 'to',\n",
              " 'become',\n",
              " 'a',\n",
              " 'spacefaring',\n",
              " 'civilization',\n",
              " 'and',\n",
              " 'a',\n",
              " 'multi-planet',\n",
              " 'species',\n",
              " 'by',\n",
              " 'building',\n",
              " 'a',\n",
              " 'self-sustaining',\n",
              " 'city',\n",
              " 'on',\n",
              " 'Mars',\n",
              " '.',\n",
              " 'In',\n",
              " '2008',\n",
              " ',',\n",
              " 'SpaceX',\n",
              " \"'s\",\n",
              " 'Falcon',\n",
              " '1',\n",
              " 'became',\n",
              " 'the',\n",
              " 'first',\n",
              " 'privately',\n",
              " 'developed',\n",
              " 'liquid-fuel',\n",
              " 'launch',\n",
              " 'vehicle',\n",
              " 'to',\n",
              " 'orbit',\n",
              " 'the',\n",
              " 'Earth',\n",
              " '.']"
            ]
          },
          "metadata": {},
          "execution_count": 72
        }
      ]
    },
    {
      "cell_type": "code",
      "source": [
        "tokens = WhitespaceTokenizer().tokenize(text)\n",
        "print(len(tokens))\n",
        "print(tokens)\n",
        "print(len(set(tokens)))\n"
      ],
      "metadata": {
        "colab": {
          "base_uri": "https://localhost:8080/"
        },
        "id": "s2NZNdgWoWWl",
        "outputId": "49415d18-5342-4035-d0c0-57a77102362d"
      },
      "execution_count": 53,
      "outputs": [
        {
          "output_type": "stream",
          "name": "stdout",
          "text": [
            "42\n",
            "['Founded', 'in', '2002,', \"SpaceX's\", 'mission', 'is', 'to', 'enable', 'humans', 'to', 'become', 'a', 'spacefaring', 'civilization', 'and', 'a', 'multi-planet', 'species', 'by', 'building', 'a', 'self-sustaining', 'city', 'on', 'Mars.', 'In', '2008,', \"SpaceX's\", 'Falcon', '1', 'became', 'the', 'first', 'privately', 'developed', 'liquid-fuel', 'launch', 'vehicle', 'to', 'orbit', 'the', 'Earth.']\n",
            "36\n"
          ]
        }
      ]
    },
    {
      "cell_type": "code",
      "source": [
        "my_st=\"There is no need to panic. We need to work together, take small yet important measures to ensure\"\n",
        "m_t= WordPunctTokenizer().tokenize(my_st)\n",
        "print(len(m_t))\n",
        "print(m_t)"
      ],
      "metadata": {
        "colab": {
          "base_uri": "https://localhost:8080/"
        },
        "id": "oMZIJ8Kko050",
        "outputId": "5f1425b8-553b-49a9-b230-757f2db0720a"
      },
      "execution_count": 59,
      "outputs": [
        {
          "output_type": "stream",
          "name": "stdout",
          "text": [
            "20\n",
            "['There', 'is', 'no', 'need', 'to', 'panic', '.', 'We', 'need', 'to', 'work', 'together', ',', 'take', 'small', 'yet', 'important', 'measures', 'to', 'ensure']\n"
          ]
        }
      ]
    },
    {
      "cell_type": "code",
      "source": [
        "text = \"\"\"Founded in 2002, SpaceX's mission is to enable humans to become a spacefaring civilization and a multi-planetary species by building a self-sustaining city on Mars. In 2008, SpaceX's Falcon 1 became the first privately developed liquid-fuel launch vehicle to orbit the Earth.\"\"\"\n",
        "sent_tokenize(text)"
      ],
      "metadata": {
        "colab": {
          "base_uri": "https://localhost:8080/"
        },
        "id": "MDIu76bCo_I0",
        "outputId": "ef2153cf-d648-4dbb-e99b-fb79685e4dc8"
      },
      "execution_count": 57,
      "outputs": [
        {
          "output_type": "execute_result",
          "data": {
            "text/plain": [
              "[\"Founded in 2002, SpaceX's mission is to enable humans to become a spacefaring civilization and a multi-planetary species by building a self-sustaining city on Mars.\",\n",
              " \"In 2008, SpaceX's Falcon 1 became the first privately developed liquid-fuel launch vehicle to orbit the Earth.\"]"
            ]
          },
          "metadata": {},
          "execution_count": 57
        }
      ]
    },
    {
      "cell_type": "code",
      "source": [
        "#Frequency Distribution Plot\n",
        "freqDist = nltk. FreqDist(word_tokenize(my_st))\n",
        "print(freqDist)"
      ],
      "metadata": {
        "colab": {
          "base_uri": "https://localhost:8080/"
        },
        "id": "I8TTYmhXpQeU",
        "outputId": "69af9ca1-94f9-4347-a85e-f7b080b11721"
      },
      "execution_count": 71,
      "outputs": [
        {
          "output_type": "stream",
          "name": "stdout",
          "text": [
            "<FreqDist with 17 samples and 20 outcomes>\n"
          ]
        }
      ]
    },
    {
      "cell_type": "code",
      "source": [
        "words = freqDist.keys()\n",
        "print(type(words))\n",
        "print(words)"
      ],
      "metadata": {
        "colab": {
          "base_uri": "https://localhost:8080/"
        },
        "id": "v1NQ2LnjplqE",
        "outputId": "a29071cd-00dc-40af-d563-bea4c6361527"
      },
      "execution_count": 63,
      "outputs": [
        {
          "output_type": "stream",
          "name": "stdout",
          "text": [
            "<class 'dict_keys'>\n",
            "dict_keys(['There', 'is', 'no', 'need', 'to', 'panic', '.', 'We', 'work', 'together', ',', 'take', 'small', 'yet', 'important', 'measures', 'ensure'])\n"
          ]
        }
      ]
    },
    {
      "cell_type": "code",
      "source": [
        "freqDist.plot()"
      ],
      "metadata": {
        "colab": {
          "base_uri": "https://localhost:8080/",
          "height": 526
        },
        "id": "i8BIGMSeps8M",
        "outputId": "b8004700-c09d-44f7-f618-02d38fc4785d"
      },
      "execution_count": 65,
      "outputs": [
        {
          "output_type": "display_data",
          "data": {
            "text/plain": [
              "<Figure size 640x480 with 1 Axes>"
            ],
            "image/png": "[encoded data removed]"
          },
          "metadata": {}
        },
        {
          "output_type": "execute_result",
          "data": {
            "text/plain": [
              "<Axes: xlabel='Samples', ylabel='Counts'>"
            ]
          },
          "metadata": {},
          "execution_count": 65
        }
      ]
    },
    {
      "cell_type": "code",
      "source": [
        "text_list=my_st.split(\" \")\n",
        "freq_dist=FreqDist(text_list)\n",
        "words=list(freq_dist.keys())\n",
        "print(freq_dist['work'])\n",
        "freq_dist.plot()"
      ],
      "metadata": {
        "colab": {
          "base_uri": "https://localhost:8080/",
          "height": 549
        },
        "id": "NVCfW9Kmpxdj",
        "outputId": "a9fc14ce-3b9d-479d-fc14-645b5c984092"
      },
      "execution_count": 70,
      "outputs": [
        {
          "output_type": "stream",
          "name": "stdout",
          "text": [
            "1\n"
          ]
        },
        {
          "output_type": "display_data",
          "data": {
            "text/plain": [
              "<Figure size 640x480 with 1 Axes>"
            ],
            "image/png": "[encoded data removed]"
          },
          "metadata": {}
        },
        {
          "output_type": "execute_result",
          "data": {
            "text/plain": [
              "<Axes: xlabel='Samples', ylabel='Counts'>"
            ]
          },
          "metadata": {},
          "execution_count": 70
        }
      ]
    }
  ]
}