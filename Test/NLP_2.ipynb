{
  "cells": [
    {
      "cell_type": "markdown",
      "id": "51983024-2544-4db8-a091-ad3f23f3f3b6",
      "metadata": {
        "id": "51983024-2544-4db8-a091-ad3f23f3f3b6"
      },
      "source": [
        "# NLP Text Preprocessing Test\n",
        "\n",
        "**Total Marks: 50**\n",
        "\n",
        "## Story\n",
        "\n",
        "In the rugged terrain of the Western Ghats, Shivaji Maharaj, the founder of the Maratha Empire, was preparing for another day of strategic planning and military campaigns. Known for his innovative tactics and leadership, Shivaji Maharaj was determined to strengthen his kingdom and protect his people from external threats.\n",
        "\n",
        "Shivaji Maharaj’s stronghold was the Raigad Fort, a formidable fortress perched high on a hilltop. The fort's strategic location allowed him to oversee the surrounding lands and defend against invaders. His trusted advisors and generals would gather in the fort's grand hall to discuss plans, share intelligence, and make critical decisions for the empire's expansion.\n",
        "\n",
        "The evenings in Shivaji Maharaj's court were vibrant with activity. He would host feasts and gatherings to bolster the morale of his soldiers and celebrate victories. During these events, Shivaji Maharaj would address his people, sharing his vision for a prosperous and united Maratha Empire. His leadership inspired loyalty and courage among his subjects.\n",
        "\n",
        "As night fell, Shivaji Maharaj would retire to his quarters, reflecting on the day's achievements and preparing for the challenges ahead. His dreams were filled with visions of a strong and resilient empire, where justice and valor would prevail.\n",
        "\n",
        "## Questions\n",
        "\n",
        "1. **Tokenization (3 marks)**  \n",
        "   a. Tokenize the story into sentences.  \n",
        "   b. Tokenize the story into words.\n",
        "\n",
        "2. **Lowercasing (3 marks)**  \n",
        "   Convert all words in the story to lowercase. Provide the transformed text.\n",
        "\n",
        "3. **Stopword Removal (3 marks)**  \n",
        "   a. Remove common stopwords (e.g., 'the', 'was', 'a') from the story.  \n",
        "   b. List the removed stopwords.\n",
        "\n",
        "4. **Punctuation Removal (3 marks)**  \n",
        "   Remove all punctuation marks from the story. Provide the cleaned text.\n",
        "\n",
        "5. **Stemming (3 marks)**  \n",
        "   a. Apply stemming to the words in the story.  \n",
        "   b. Provide a few examples of stemmed words.\n",
        "\n",
        "6. **Lemmatization (3 marks)**  \n",
        "   a. Apply lemmatization to the words in the story.  \n",
        "   b. Provide a few examples of lemmatized words.\n",
        "\n",
        "7. **Named Entity Recognition (NER) (3 marks)**  \n",
        "   Identify and list all named entities (e.g., people, locations) in the story.\n",
        "\n",
        "8. **Part-of-Speech Tagging (3 marks)**  \n",
        "   Tag each word in the story with its corresponding part of speech. Provide the tagged text for a few sentences.\n",
        "\n",
        "9. **Term Frequency (2 marks)**  \n",
        "   Calculate the term frequency (TF) of the word \"Shivaji\" in the story.\n",
        "\n",
        "10. **Frequency Distribution (3 marks)**  \n",
        "    Plot the frequency distribution of the top 10 most common words in the story. Describe the results.\n",
        "\n",
        "11. **Token Count (2 marks)**  \n",
        "    Count the total number of tokens (words) in the story.\n",
        "\n",
        "12. **Sentence Count (2 marks)**  \n",
        "    Count the total number of sentences in the story.\n",
        "\n",
        "13. **Stopword Frequency (2 marks)**  \n",
        "    Calculate the frequency of stopwords in the story. Provide the top 3 most frequent stopwords.\n",
        "\n",
        "14. **Longest Word (2 marks)**  \n",
        "    Identify the longest word in the story and its length.\n",
        "\n",
        "15. **Word Cloud (3 marks)**  \n",
        "    Create a word cloud based on the story. Describe the most prominent words in the cloud.\n",
        "\n",
        "16. **Noun Identification (2 marks)**  \n",
        "    Identify and list all nouns in the story.\n",
        "\n",
        "17. **Verb Identification (2 marks)**  \n",
        "    Identify and list all verbs in the story.\n",
        "\n",
        "18. **Word Context (2 marks)**  \n",
        "    Find and list the sentences where the word \"empire\" appears.\n",
        "\n",
        "19. **Named Entity Categorization (2 marks)**  \n",
        "    Categorize the identified named entities into people, locations, and organizations.\n",
        "\n",
        "20. **Word Frequency Comparison (2 marks)**  \n",
        "    Compare the frequency of the words \"kingdom\" and \"feast\" in the story. Provide their counts and analyze the difference.\n",
        "\n",
        "---\n",
        "\n",
        "### Instructions\n",
        "\n",
        "- Use Python libraries like `nltk`, `spaCy`, `wordcloud`, etc., where appropriate.\n",
        "- Ensure to follow the specified format for each task.\n",
        "- Write clear and concise explanations for your results where required.\n",
        "- Submit your notebook as a PDF file.\n",
        "\n",
        "Good luck!\n"
      ]
    },
    {
      "cell_type": "code",
      "execution_count": 81,
      "id": "92e0ad8b-5a62-40cb-b166-8107228b1a44",
      "metadata": {
        "id": "92e0ad8b-5a62-40cb-b166-8107228b1a44"
      },
      "outputs": [],
      "source": [
        "import numpy\n",
        "import pandas\n",
        "import matplotlib.pyplot as plt\n",
        "import nltk\n",
        "import string\n",
        "import re\n",
        "from collections import Counter\n",
        "from nltk import word_tokenize,sent_tokenize,FreqDist\n",
        "#nltk.download('stopwords')\n",
        "#nltk.download('punkt')\n",
        "from nltk.corpus import stopwords\n",
        "from nltk.stem import PorterStemmer,wordnet\n",
        "from nltk.tokenize import word_tokenize\n",
        "#nltk.download('wordnet')\n",
        "from nltk import ne_chunk\n",
        "#nltk.download('maxent_ne_chunker')\n",
        "#nltk.download('words')\n",
        "from nltk import pos_tag\n",
        "#nltk.download('averaged_perceptron_tagger')\n",
        "import spacy\n",
        "from sklearn.feature_extraction.text import TfidfVectorizer"
      ]
    },
    {
      "cell_type": "code",
      "source": [
        "story=\"\"\"In the rugged terrain of the Western Ghats, Shivaji Maharaj, the founder of the Maratha Empire, was preparing for another day of strategic planning and military campaigns. Known for his innovative tactics and leadership, Shivaji Maharaj was determined to strengthen his kingdom and protect his people from external threats.\n",
        "\n",
        "Shivaji Maharaj’s stronghold was the Raigad Fort, a formidable fortress perched high on a hilltop. The fort's strategic location allowed him to oversee the surrounding lands and defend against invaders. His trusted advisors and generals would gather in the fort's grand hall to discuss plans, share intelligence, and make critical decisions for the empire's expansion.\n",
        "\n",
        "The evenings in Shivaji Maharaj's court were vibrant with activity. He would host feasts and gatherings to bolster the morale of his soldiers and celebrate victories. During these events, Shivaji Maharaj would address his people, sharing his vision for a prosperous and united Maratha Empire. His leadership inspired loyalty and courage among his subjects.\n",
        "\n",
        "As night fell, Shivaji Maharaj would retire to his quarters, reflecting on the day's achievements and preparing for the challenges ahead. His dreams were filled with visions of a strong and resilient empire, where justice and valor would prevail.\"\"\"\n",
        "print(story)"
      ],
      "metadata": {
        "colab": {
          "base_uri": "https://localhost:8080/"
        },
        "id": "wqeucNUAjXmR",
        "outputId": "9922207c-05ce-4f44-f53c-051b71a900cb"
      },
      "id": "wqeucNUAjXmR",
      "execution_count": 3,
      "outputs": [
        {
          "output_type": "stream",
          "name": "stdout",
          "text": [
            "In the rugged terrain of the Western Ghats, Shivaji Maharaj, the founder of the Maratha Empire, was preparing for another day of strategic planning and military campaigns. Known for his innovative tactics and leadership, Shivaji Maharaj was determined to strengthen his kingdom and protect his people from external threats.\n",
            "\n",
            "Shivaji Maharaj’s stronghold was the Raigad Fort, a formidable fortress perched high on a hilltop. The fort's strategic location allowed him to oversee the surrounding lands and defend against invaders. His trusted advisors and generals would gather in the fort's grand hall to discuss plans, share intelligence, and make critical decisions for the empire's expansion.\n",
            "\n",
            "The evenings in Shivaji Maharaj's court were vibrant with activity. He would host feasts and gatherings to bolster the morale of his soldiers and celebrate victories. During these events, Shivaji Maharaj would address his people, sharing his vision for a prosperous and united Maratha Empire. His leadership inspired loyalty and courage among his subjects.\n",
            "\n",
            "As night fell, Shivaji Maharaj would retire to his quarters, reflecting on the day's achievements and preparing for the challenges ahead. His dreams were filled with visions of a strong and resilient empire, where justice and valor would prevail.\n"
          ]
        }
      ]
    },
    {
      "cell_type": "code",
      "source": [
        "#1. Tokenization\n",
        "word_token=word_tokenize(story)\n",
        "sentence_token=sent_tokenize(story)\n",
        "print(word_token)\n",
        "print(sentence_token)"
      ],
      "metadata": {
        "colab": {
          "base_uri": "https://localhost:8080/"
        },
        "id": "7cz5V5P0j7ph",
        "outputId": "ad3aadd7-2f4d-42b9-ce39-b6b4be789d41"
      },
      "id": "7cz5V5P0j7ph",
      "execution_count": 13,
      "outputs": [
        {
          "output_type": "stream",
          "name": "stdout",
          "text": [
            "['In', 'the', 'rugged', 'terrain', 'of', 'the', 'Western', 'Ghats', ',', 'Shivaji', 'Maharaj', ',', 'the', 'founder', 'of', 'the', 'Maratha', 'Empire', ',', 'was', 'preparing', 'for', 'another', 'day', 'of', 'strategic', 'planning', 'and', 'military', 'campaigns', '.', 'Known', 'for', 'his', 'innovative', 'tactics', 'and', 'leadership', ',', 'Shivaji', 'Maharaj', 'was', 'determined', 'to', 'strengthen', 'his', 'kingdom', 'and', 'protect', 'his', 'people', 'from', 'external', 'threats', '.', 'Shivaji', 'Maharaj', '’', 's', 'stronghold', 'was', 'the', 'Raigad', 'Fort', ',', 'a', 'formidable', 'fortress', 'perched', 'high', 'on', 'a', 'hilltop', '.', 'The', 'fort', \"'s\", 'strategic', 'location', 'allowed', 'him', 'to', 'oversee', 'the', 'surrounding', 'lands', 'and', 'defend', 'against', 'invaders', '.', 'His', 'trusted', 'advisors', 'and', 'generals', 'would', 'gather', 'in', 'the', 'fort', \"'s\", 'grand', 'hall', 'to', 'discuss', 'plans', ',', 'share', 'intelligence', ',', 'and', 'make', 'critical', 'decisions', 'for', 'the', 'empire', \"'s\", 'expansion', '.', 'The', 'evenings', 'in', 'Shivaji', 'Maharaj', \"'s\", 'court', 'were', 'vibrant', 'with', 'activity', '.', 'He', 'would', 'host', 'feasts', 'and', 'gatherings', 'to', 'bolster', 'the', 'morale', 'of', 'his', 'soldiers', 'and', 'celebrate', 'victories', '.', 'During', 'these', 'events', ',', 'Shivaji', 'Maharaj', 'would', 'address', 'his', 'people', ',', 'sharing', 'his', 'vision', 'for', 'a', 'prosperous', 'and', 'united', 'Maratha', 'Empire', '.', 'His', 'leadership', 'inspired', 'loyalty', 'and', 'courage', 'among', 'his', 'subjects', '.', 'As', 'night', 'fell', ',', 'Shivaji', 'Maharaj', 'would', 'retire', 'to', 'his', 'quarters', ',', 'reflecting', 'on', 'the', 'day', \"'s\", 'achievements', 'and', 'preparing', 'for', 'the', 'challenges', 'ahead', '.', 'His', 'dreams', 'were', 'filled', 'with', 'visions', 'of', 'a', 'strong', 'and', 'resilient', 'empire', ',', 'where', 'justice', 'and', 'valor', 'would', 'prevail', '.']\n",
            "['In the rugged terrain of the Western Ghats, Shivaji Maharaj, the founder of the Maratha Empire, was preparing for another day of strategic planning and military campaigns.', 'Known for his innovative tactics and leadership, Shivaji Maharaj was determined to strengthen his kingdom and protect his people from external threats.', 'Shivaji Maharaj’s stronghold was the Raigad Fort, a formidable fortress perched high on a hilltop.', \"The fort's strategic location allowed him to oversee the surrounding lands and defend against invaders.\", \"His trusted advisors and generals would gather in the fort's grand hall to discuss plans, share intelligence, and make critical decisions for the empire's expansion.\", \"The evenings in Shivaji Maharaj's court were vibrant with activity.\", 'He would host feasts and gatherings to bolster the morale of his soldiers and celebrate victories.', 'During these events, Shivaji Maharaj would address his people, sharing his vision for a prosperous and united Maratha Empire.', 'His leadership inspired loyalty and courage among his subjects.', \"As night fell, Shivaji Maharaj would retire to his quarters, reflecting on the day's achievements and preparing for the challenges ahead.\", 'His dreams were filled with visions of a strong and resilient empire, where justice and valor would prevail.']\n"
          ]
        }
      ]
    },
    {
      "cell_type": "code",
      "source": [
        "#2. Lowercasing\n",
        "def lower_case(txt):\n",
        "  return txt.lower()\n",
        "print(lower_case(story))"
      ],
      "metadata": {
        "colab": {
          "base_uri": "https://localhost:8080/"
        },
        "id": "K6vAZ7Udkaj6",
        "outputId": "5a1f9f76-4046-41c7-9d63-96465ef2f51f"
      },
      "id": "K6vAZ7Udkaj6",
      "execution_count": 11,
      "outputs": [
        {
          "output_type": "stream",
          "name": "stdout",
          "text": [
            "in the rugged terrain of the western ghats, shivaji maharaj, the founder of the maratha empire, was preparing for another day of strategic planning and military campaigns. known for his innovative tactics and leadership, shivaji maharaj was determined to strengthen his kingdom and protect his people from external threats.\n",
            "\n",
            "shivaji maharaj’s stronghold was the raigad fort, a formidable fortress perched high on a hilltop. the fort's strategic location allowed him to oversee the surrounding lands and defend against invaders. his trusted advisors and generals would gather in the fort's grand hall to discuss plans, share intelligence, and make critical decisions for the empire's expansion.\n",
            "\n",
            "the evenings in shivaji maharaj's court were vibrant with activity. he would host feasts and gatherings to bolster the morale of his soldiers and celebrate victories. during these events, shivaji maharaj would address his people, sharing his vision for a prosperous and united maratha empire. his leadership inspired loyalty and courage among his subjects.\n",
            "\n",
            "as night fell, shivaji maharaj would retire to his quarters, reflecting on the day's achievements and preparing for the challenges ahead. his dreams were filled with visions of a strong and resilient empire, where justice and valor would prevail.\n"
          ]
        }
      ]
    },
    {
      "cell_type": "code",
      "source": [
        "#3. Stopwords Removal\n",
        "def remove_stopwords(text):\n",
        "  stop_words=set(stopwords.words('english'))\n",
        "  word_tokens=word_tokenize(text)\n",
        "  res=[]\n",
        "  for w in word_tokens:\n",
        "    if w in stop_words:\n",
        "      res.append(w)\n",
        "  return res\n",
        "Stopwordslist=remove_stopwords(story)\n",
        "print(set(Stopwordslist))"
      ],
      "metadata": {
        "colab": {
          "base_uri": "https://localhost:8080/"
        },
        "id": "_qexmNL1kwyM",
        "outputId": "eb78c6a3-406d-4188-89ae-099792ab9c9c"
      },
      "id": "_qexmNL1kwyM",
      "execution_count": 68,
      "outputs": [
        {
          "output_type": "stream",
          "name": "stdout",
          "text": [
            "{'for', 'a', 'on', 'him', 'from', 'with', 'was', 's', 'where', 'these', 'his', 'in', 'were', 'the', 'to', 'of', 'and', 'against'}\n"
          ]
        }
      ]
    },
    {
      "cell_type": "code",
      "source": [
        "#4. Punctuation Removal\n",
        "def remove_punct(text):\n",
        "  translator=str.maketrans('','',string.punctuation)\n",
        "  return(text.translate(translator))\n",
        "print(remove_punct(story))"
      ],
      "metadata": {
        "colab": {
          "base_uri": "https://localhost:8080/"
        },
        "id": "yQK97LvGmQsy",
        "outputId": "85e33ae5-272d-45ec-879b-d2e013a5d7c9"
      },
      "id": "yQK97LvGmQsy",
      "execution_count": 18,
      "outputs": [
        {
          "output_type": "stream",
          "name": "stdout",
          "text": [
            "In the rugged terrain of the Western Ghats Shivaji Maharaj the founder of the Maratha Empire was preparing for another day of strategic planning and military campaigns Known for his innovative tactics and leadership Shivaji Maharaj was determined to strengthen his kingdom and protect his people from external threats\n",
            "\n",
            "Shivaji Maharaj’s stronghold was the Raigad Fort a formidable fortress perched high on a hilltop The forts strategic location allowed him to oversee the surrounding lands and defend against invaders His trusted advisors and generals would gather in the forts grand hall to discuss plans share intelligence and make critical decisions for the empires expansion\n",
            "\n",
            "The evenings in Shivaji Maharajs court were vibrant with activity He would host feasts and gatherings to bolster the morale of his soldiers and celebrate victories During these events Shivaji Maharaj would address his people sharing his vision for a prosperous and united Maratha Empire His leadership inspired loyalty and courage among his subjects\n",
            "\n",
            "As night fell Shivaji Maharaj would retire to his quarters reflecting on the days achievements and preparing for the challenges ahead His dreams were filled with visions of a strong and resilient empire where justice and valor would prevail\n"
          ]
        }
      ]
    },
    {
      "cell_type": "code",
      "source": [
        "#5. Stemming\n",
        "stemm=PorterStemmer()\n",
        "def stemming(txt):\n",
        "  res=[stemm.stem(i) for i in word_token]\n",
        "  return res\n",
        "ans=stemming(story)\n",
        "print(ans)\n",
        "for i in word_token:\n",
        "  if i!=ans[word_token.index(i)]:\n",
        "    print(i,ans[word_token.index(i)])"
      ],
      "metadata": {
        "colab": {
          "base_uri": "https://localhost:8080/"
        },
        "id": "dShTRMINmfDA",
        "outputId": "5090ccf5-2552-4a98-884c-c9324dfbe170"
      },
      "id": "dShTRMINmfDA",
      "execution_count": 36,
      "outputs": [
        {
          "output_type": "stream",
          "name": "stdout",
          "text": [
            "['in', 'the', 'rug', 'terrain', 'of', 'the', 'western', 'ghat', ',', 'shivaji', 'maharaj', ',', 'the', 'founder', 'of', 'the', 'maratha', 'empir', ',', 'wa', 'prepar', 'for', 'anoth', 'day', 'of', 'strateg', 'plan', 'and', 'militari', 'campaign', '.', 'known', 'for', 'hi', 'innov', 'tactic', 'and', 'leadership', ',', 'shivaji', 'maharaj', 'wa', 'determin', 'to', 'strengthen', 'hi', 'kingdom', 'and', 'protect', 'hi', 'peopl', 'from', 'extern', 'threat', '.', 'shivaji', 'maharaj', '’', 's', 'stronghold', 'wa', 'the', 'raigad', 'fort', ',', 'a', 'formid', 'fortress', 'perch', 'high', 'on', 'a', 'hilltop', '.', 'the', 'fort', \"'s\", 'strateg', 'locat', 'allow', 'him', 'to', 'overse', 'the', 'surround', 'land', 'and', 'defend', 'against', 'invad', '.', 'hi', 'trust', 'advisor', 'and', 'gener', 'would', 'gather', 'in', 'the', 'fort', \"'s\", 'grand', 'hall', 'to', 'discuss', 'plan', ',', 'share', 'intellig', ',', 'and', 'make', 'critic', 'decis', 'for', 'the', 'empir', \"'s\", 'expans', '.', 'the', 'even', 'in', 'shivaji', 'maharaj', \"'s\", 'court', 'were', 'vibrant', 'with', 'activ', '.', 'he', 'would', 'host', 'feast', 'and', 'gather', 'to', 'bolster', 'the', 'moral', 'of', 'hi', 'soldier', 'and', 'celebr', 'victori', '.', 'dure', 'these', 'event', ',', 'shivaji', 'maharaj', 'would', 'address', 'hi', 'peopl', ',', 'share', 'hi', 'vision', 'for', 'a', 'prosper', 'and', 'unit', 'maratha', 'empir', '.', 'hi', 'leadership', 'inspir', 'loyalti', 'and', 'courag', 'among', 'hi', 'subject', '.', 'as', 'night', 'fell', ',', 'shivaji', 'maharaj', 'would', 'retir', 'to', 'hi', 'quarter', ',', 'reflect', 'on', 'the', 'day', \"'s\", 'achiev', 'and', 'prepar', 'for', 'the', 'challeng', 'ahead', '.', 'hi', 'dream', 'were', 'fill', 'with', 'vision', 'of', 'a', 'strong', 'and', 'resili', 'empir', ',', 'where', 'justic', 'and', 'valor', 'would', 'prevail', '.']\n",
            "In in\n",
            "rugged rug\n",
            "Western western\n",
            "Ghats ghat\n",
            "Shivaji shivaji\n",
            "Maharaj maharaj\n",
            "Maratha maratha\n",
            "Empire empir\n",
            "was wa\n",
            "preparing prepar\n",
            "another anoth\n",
            "strategic strateg\n",
            "planning plan\n",
            "military militari\n",
            "campaigns campaign\n",
            "Known known\n",
            "his hi\n",
            "innovative innov\n",
            "tactics tactic\n",
            "Shivaji shivaji\n",
            "Maharaj maharaj\n",
            "was wa\n",
            "determined determin\n",
            "his hi\n",
            "his hi\n",
            "people peopl\n",
            "external extern\n",
            "threats threat\n",
            "Shivaji shivaji\n",
            "Maharaj maharaj\n",
            "was wa\n",
            "Raigad raigad\n",
            "Fort fort\n",
            "formidable formid\n",
            "perched perch\n",
            "The the\n",
            "strategic strateg\n",
            "location locat\n",
            "allowed allow\n",
            "oversee overse\n",
            "surrounding surround\n",
            "lands land\n",
            "invaders invad\n",
            "His hi\n",
            "trusted trust\n",
            "advisors advisor\n",
            "generals gener\n",
            "plans plan\n",
            "intelligence intellig\n",
            "critical critic\n",
            "decisions decis\n",
            "empire empir\n",
            "expansion expans\n",
            "The the\n",
            "evenings even\n",
            "Shivaji shivaji\n",
            "Maharaj maharaj\n",
            "activity activ\n",
            "He he\n",
            "feasts feast\n",
            "gatherings gather\n",
            "morale moral\n",
            "his hi\n",
            "soldiers soldier\n",
            "celebrate celebr\n",
            "victories victori\n",
            "During dure\n",
            "events event\n",
            "Shivaji shivaji\n",
            "Maharaj maharaj\n",
            "his hi\n",
            "people peopl\n",
            "sharing share\n",
            "his hi\n",
            "prosperous prosper\n",
            "united unit\n",
            "Maratha maratha\n",
            "Empire empir\n",
            "His hi\n",
            "inspired inspir\n",
            "loyalty loyalti\n",
            "courage courag\n",
            "his hi\n",
            "subjects subject\n",
            "As as\n",
            "Shivaji shivaji\n",
            "Maharaj maharaj\n",
            "retire retir\n",
            "his hi\n",
            "quarters quarter\n",
            "reflecting reflect\n",
            "achievements achiev\n",
            "preparing prepar\n",
            "challenges challeng\n",
            "His hi\n",
            "dreams dream\n",
            "filled fill\n",
            "visions vision\n",
            "resilient resili\n",
            "empire empir\n",
            "justice justic\n"
          ]
        }
      ]
    },
    {
      "cell_type": "code",
      "source": [
        "#6. Lemmatization\n",
        "lemma=wordnet.WordNetLemmatizer()\n",
        "def lemmatizing(txt):\n",
        "  res=[lemma.lemmatize(i) for i in word_token]\n",
        "  return res\n",
        "ans=lemmatizing(story)\n",
        "print(ans)\n",
        "for i in word_token:\n",
        "  if i!=ans[word_token.index(i)]:\n",
        "    print(i,ans[word_token.index(i)])"
      ],
      "metadata": {
        "colab": {
          "base_uri": "https://localhost:8080/"
        },
        "id": "SVFSE6jPn-I_",
        "outputId": "1ac089fa-4e9a-4729-86bc-dba5a2620e94"
      },
      "id": "SVFSE6jPn-I_",
      "execution_count": 38,
      "outputs": [
        {
          "output_type": "stream",
          "name": "stdout",
          "text": [
            "['In', 'the', 'rugged', 'terrain', 'of', 'the', 'Western', 'Ghats', ',', 'Shivaji', 'Maharaj', ',', 'the', 'founder', 'of', 'the', 'Maratha', 'Empire', ',', 'wa', 'preparing', 'for', 'another', 'day', 'of', 'strategic', 'planning', 'and', 'military', 'campaign', '.', 'Known', 'for', 'his', 'innovative', 'tactic', 'and', 'leadership', ',', 'Shivaji', 'Maharaj', 'wa', 'determined', 'to', 'strengthen', 'his', 'kingdom', 'and', 'protect', 'his', 'people', 'from', 'external', 'threat', '.', 'Shivaji', 'Maharaj', '’', 's', 'stronghold', 'wa', 'the', 'Raigad', 'Fort', ',', 'a', 'formidable', 'fortress', 'perched', 'high', 'on', 'a', 'hilltop', '.', 'The', 'fort', \"'s\", 'strategic', 'location', 'allowed', 'him', 'to', 'oversee', 'the', 'surrounding', 'land', 'and', 'defend', 'against', 'invader', '.', 'His', 'trusted', 'advisor', 'and', 'general', 'would', 'gather', 'in', 'the', 'fort', \"'s\", 'grand', 'hall', 'to', 'discus', 'plan', ',', 'share', 'intelligence', ',', 'and', 'make', 'critical', 'decision', 'for', 'the', 'empire', \"'s\", 'expansion', '.', 'The', 'evening', 'in', 'Shivaji', 'Maharaj', \"'s\", 'court', 'were', 'vibrant', 'with', 'activity', '.', 'He', 'would', 'host', 'feast', 'and', 'gathering', 'to', 'bolster', 'the', 'morale', 'of', 'his', 'soldier', 'and', 'celebrate', 'victory', '.', 'During', 'these', 'event', ',', 'Shivaji', 'Maharaj', 'would', 'address', 'his', 'people', ',', 'sharing', 'his', 'vision', 'for', 'a', 'prosperous', 'and', 'united', 'Maratha', 'Empire', '.', 'His', 'leadership', 'inspired', 'loyalty', 'and', 'courage', 'among', 'his', 'subject', '.', 'As', 'night', 'fell', ',', 'Shivaji', 'Maharaj', 'would', 'retire', 'to', 'his', 'quarter', ',', 'reflecting', 'on', 'the', 'day', \"'s\", 'achievement', 'and', 'preparing', 'for', 'the', 'challenge', 'ahead', '.', 'His', 'dream', 'were', 'filled', 'with', 'vision', 'of', 'a', 'strong', 'and', 'resilient', 'empire', ',', 'where', 'justice', 'and', 'valor', 'would', 'prevail', '.']\n",
            "was wa\n",
            "campaigns campaign\n",
            "tactics tactic\n",
            "was wa\n",
            "threats threat\n",
            "was wa\n",
            "lands land\n",
            "invaders invader\n",
            "advisors advisor\n",
            "generals general\n",
            "discuss discus\n",
            "plans plan\n",
            "decisions decision\n",
            "evenings evening\n",
            "feasts feast\n",
            "gatherings gathering\n",
            "soldiers soldier\n",
            "victories victory\n",
            "events event\n",
            "subjects subject\n",
            "quarters quarter\n",
            "achievements achievement\n",
            "challenges challenge\n",
            "dreams dream\n",
            "visions vision\n"
          ]
        }
      ]
    },
    {
      "cell_type": "code",
      "source": [
        "#8. Part-of-Speech Tagging\n",
        "def postag(txt):\n",
        "  return pos_tag(txt)\n",
        "ans=postag(word_token)\n",
        "print(ans)\n",
        "for i in sentence_token:\n",
        "  print(i,ans[sentence_token.index(i)])"
      ],
      "metadata": {
        "colab": {
          "base_uri": "https://localhost:8080/"
        },
        "id": "mCFVoZEwrRDO",
        "outputId": "0d645c66-98f4-4cc6-ba04-89a436cf0ed2"
      },
      "id": "mCFVoZEwrRDO",
      "execution_count": 54,
      "outputs": [
        {
          "output_type": "stream",
          "name": "stdout",
          "text": [
            "[('In', 'IN'), ('the', 'DT'), ('rugged', 'JJ'), ('terrain', 'NN'), ('of', 'IN'), ('the', 'DT'), ('Western', 'JJ'), ('Ghats', 'NNP'), (',', ','), ('Shivaji', 'NNP'), ('Maharaj', 'NNP'), (',', ','), ('the', 'DT'), ('founder', 'NN'), ('of', 'IN'), ('the', 'DT'), ('Maratha', 'NNP'), ('Empire', 'NNP'), (',', ','), ('was', 'VBD'), ('preparing', 'VBG'), ('for', 'IN'), ('another', 'DT'), ('day', 'NN'), ('of', 'IN'), ('strategic', 'JJ'), ('planning', 'NN'), ('and', 'CC'), ('military', 'JJ'), ('campaigns', 'NNS'), ('.', '.'), ('Known', 'VBN'), ('for', 'IN'), ('his', 'PRP$'), ('innovative', 'JJ'), ('tactics', 'NNS'), ('and', 'CC'), ('leadership', 'NN'), (',', ','), ('Shivaji', 'NNP'), ('Maharaj', 'NNP'), ('was', 'VBD'), ('determined', 'VBN'), ('to', 'TO'), ('strengthen', 'VB'), ('his', 'PRP$'), ('kingdom', 'NN'), ('and', 'CC'), ('protect', 'VB'), ('his', 'PRP$'), ('people', 'NNS'), ('from', 'IN'), ('external', 'JJ'), ('threats', 'NNS'), ('.', '.'), ('Shivaji', 'NNP'), ('Maharaj', 'NNP'), ('’', 'NNP'), ('s', 'VBD'), ('stronghold', 'NN'), ('was', 'VBD'), ('the', 'DT'), ('Raigad', 'NNP'), ('Fort', 'NNP'), (',', ','), ('a', 'DT'), ('formidable', 'JJ'), ('fortress', 'NN'), ('perched', 'VBN'), ('high', 'RB'), ('on', 'IN'), ('a', 'DT'), ('hilltop', 'NN'), ('.', '.'), ('The', 'DT'), ('fort', 'NN'), (\"'s\", 'POS'), ('strategic', 'JJ'), ('location', 'NN'), ('allowed', 'VBD'), ('him', 'PRP'), ('to', 'TO'), ('oversee', 'VB'), ('the', 'DT'), ('surrounding', 'VBG'), ('lands', 'NNS'), ('and', 'CC'), ('defend', 'VB'), ('against', 'IN'), ('invaders', 'NNS'), ('.', '.'), ('His', 'PRP$'), ('trusted', 'JJ'), ('advisors', 'NNS'), ('and', 'CC'), ('generals', 'NNS'), ('would', 'MD'), ('gather', 'VB'), ('in', 'IN'), ('the', 'DT'), ('fort', 'NN'), (\"'s\", 'POS'), ('grand', 'JJ'), ('hall', 'NN'), ('to', 'TO'), ('discuss', 'VB'), ('plans', 'NNS'), (',', ','), ('share', 'NN'), ('intelligence', 'NN'), (',', ','), ('and', 'CC'), ('make', 'VB'), ('critical', 'JJ'), ('decisions', 'NNS'), ('for', 'IN'), ('the', 'DT'), ('empire', 'NN'), (\"'s\", 'POS'), ('expansion', 'NN'), ('.', '.'), ('The', 'DT'), ('evenings', 'NNS'), ('in', 'IN'), ('Shivaji', 'NNP'), ('Maharaj', 'NNP'), (\"'s\", 'POS'), ('court', 'NN'), ('were', 'VBD'), ('vibrant', 'JJ'), ('with', 'IN'), ('activity', 'NN'), ('.', '.'), ('He', 'PRP'), ('would', 'MD'), ('host', 'VB'), ('feasts', 'NNS'), ('and', 'CC'), ('gatherings', 'NNS'), ('to', 'TO'), ('bolster', 'VB'), ('the', 'DT'), ('morale', 'NN'), ('of', 'IN'), ('his', 'PRP$'), ('soldiers', 'NNS'), ('and', 'CC'), ('celebrate', 'NN'), ('victories', 'NNS'), ('.', '.'), ('During', 'IN'), ('these', 'DT'), ('events', 'NNS'), (',', ','), ('Shivaji', 'NNP'), ('Maharaj', 'NNP'), ('would', 'MD'), ('address', 'VB'), ('his', 'PRP$'), ('people', 'NNS'), (',', ','), ('sharing', 'VBG'), ('his', 'PRP$'), ('vision', 'NN'), ('for', 'IN'), ('a', 'DT'), ('prosperous', 'JJ'), ('and', 'CC'), ('united', 'JJ'), ('Maratha', 'NNP'), ('Empire', 'NNP'), ('.', '.'), ('His', 'PRP$'), ('leadership', 'NN'), ('inspired', 'VBD'), ('loyalty', 'NN'), ('and', 'CC'), ('courage', 'NN'), ('among', 'IN'), ('his', 'PRP$'), ('subjects', 'NNS'), ('.', '.'), ('As', 'IN'), ('night', 'NN'), ('fell', 'VBD'), (',', ','), ('Shivaji', 'NNP'), ('Maharaj', 'NNP'), ('would', 'MD'), ('retire', 'VB'), ('to', 'TO'), ('his', 'PRP$'), ('quarters', 'NNS'), (',', ','), ('reflecting', 'VBG'), ('on', 'IN'), ('the', 'DT'), ('day', 'NN'), (\"'s\", 'POS'), ('achievements', 'NNS'), ('and', 'CC'), ('preparing', 'VBG'), ('for', 'IN'), ('the', 'DT'), ('challenges', 'NNS'), ('ahead', 'RB'), ('.', '.'), ('His', 'PRP$'), ('dreams', 'NNS'), ('were', 'VBD'), ('filled', 'VBN'), ('with', 'IN'), ('visions', 'NNS'), ('of', 'IN'), ('a', 'DT'), ('strong', 'JJ'), ('and', 'CC'), ('resilient', 'JJ'), ('empire', 'NN'), (',', ','), ('where', 'WRB'), ('justice', 'NN'), ('and', 'CC'), ('valor', 'NN'), ('would', 'MD'), ('prevail', 'VB'), ('.', '.')]\n",
            "In the rugged terrain of the Western Ghats, Shivaji Maharaj, the founder of the Maratha Empire, was preparing for another day of strategic planning and military campaigns. ('In', 'IN')\n",
            "Known for his innovative tactics and leadership, Shivaji Maharaj was determined to strengthen his kingdom and protect his people from external threats. ('the', 'DT')\n",
            "Shivaji Maharaj’s stronghold was the Raigad Fort, a formidable fortress perched high on a hilltop. ('rugged', 'JJ')\n",
            "The fort's strategic location allowed him to oversee the surrounding lands and defend against invaders. ('terrain', 'NN')\n",
            "His trusted advisors and generals would gather in the fort's grand hall to discuss plans, share intelligence, and make critical decisions for the empire's expansion. ('of', 'IN')\n",
            "The evenings in Shivaji Maharaj's court were vibrant with activity. ('the', 'DT')\n",
            "He would host feasts and gatherings to bolster the morale of his soldiers and celebrate victories. ('Western', 'JJ')\n",
            "During these events, Shivaji Maharaj would address his people, sharing his vision for a prosperous and united Maratha Empire. ('Ghats', 'NNP')\n",
            "His leadership inspired loyalty and courage among his subjects. (',', ',')\n",
            "As night fell, Shivaji Maharaj would retire to his quarters, reflecting on the day's achievements and preparing for the challenges ahead. ('Shivaji', 'NNP')\n",
            "His dreams were filled with visions of a strong and resilient empire, where justice and valor would prevail. ('Maharaj', 'NNP')\n"
          ]
        }
      ]
    },
    {
      "cell_type": "code",
      "source": [
        "#7. Name Entity Recognition\n",
        "def ner(text):\n",
        "  word_pos=pos_tag(word_token)\n",
        "  print(ne_chunk(word_pos))\n",
        "ner(word_token)"
      ],
      "metadata": {
        "colab": {
          "base_uri": "https://localhost:8080/"
        },
        "id": "SmsrhlyUo934",
        "outputId": "2efb84ff-4896-44c0-8633-dd246c488a9d"
      },
      "id": "SmsrhlyUo934",
      "execution_count": 98,
      "outputs": [
        {
          "output_type": "stream",
          "name": "stdout",
          "text": [
            "(S\n",
            "  In/IN\n",
            "  the/DT\n",
            "  rugged/JJ\n",
            "  terrain/NN\n",
            "  of/IN\n",
            "  the/DT\n",
            "  (LOCATION Western/JJ Ghats/NNP)\n",
            "  ,/,\n",
            "  (PERSON Shivaji/NNP Maharaj/NNP)\n",
            "  ,/,\n",
            "  the/DT\n",
            "  founder/NN\n",
            "  of/IN\n",
            "  the/DT\n",
            "  (ORGANIZATION Maratha/NNP Empire/NNP)\n",
            "  ,/,\n",
            "  was/VBD\n",
            "  preparing/VBG\n",
            "  for/IN\n",
            "  another/DT\n",
            "  day/NN\n",
            "  of/IN\n",
            "  strategic/JJ\n",
            "  planning/NN\n",
            "  and/CC\n",
            "  military/JJ\n",
            "  campaigns/NNS\n",
            "  ./.\n",
            "  Known/VBN\n",
            "  for/IN\n",
            "  his/PRP$\n",
            "  innovative/JJ\n",
            "  tactics/NNS\n",
            "  and/CC\n",
            "  leadership/NN\n",
            "  ,/,\n",
            "  (PERSON Shivaji/NNP Maharaj/NNP)\n",
            "  was/VBD\n",
            "  determined/VBN\n",
            "  to/TO\n",
            "  strengthen/VB\n",
            "  his/PRP$\n",
            "  kingdom/NN\n",
            "  and/CC\n",
            "  protect/VB\n",
            "  his/PRP$\n",
            "  people/NNS\n",
            "  from/IN\n",
            "  external/JJ\n",
            "  threats/NNS\n",
            "  ./.\n",
            "  (PERSON Shivaji/NNP Maharaj/NNP)\n",
            "  ’/NNP\n",
            "  s/VBD\n",
            "  stronghold/NN\n",
            "  was/VBD\n",
            "  the/DT\n",
            "  (ORGANIZATION Raigad/NNP Fort/NNP)\n",
            "  ,/,\n",
            "  a/DT\n",
            "  formidable/JJ\n",
            "  fortress/NN\n",
            "  perched/VBN\n",
            "  high/RB\n",
            "  on/IN\n",
            "  a/DT\n",
            "  hilltop/NN\n",
            "  ./.\n",
            "  The/DT\n",
            "  fort/NN\n",
            "  's/POS\n",
            "  strategic/JJ\n",
            "  location/NN\n",
            "  allowed/VBD\n",
            "  him/PRP\n",
            "  to/TO\n",
            "  oversee/VB\n",
            "  the/DT\n",
            "  surrounding/VBG\n",
            "  lands/NNS\n",
            "  and/CC\n",
            "  defend/VB\n",
            "  against/IN\n",
            "  invaders/NNS\n",
            "  ./.\n",
            "  His/PRP$\n",
            "  trusted/JJ\n",
            "  advisors/NNS\n",
            "  and/CC\n",
            "  generals/NNS\n",
            "  would/MD\n",
            "  gather/VB\n",
            "  in/IN\n",
            "  the/DT\n",
            "  fort/NN\n",
            "  's/POS\n",
            "  grand/JJ\n",
            "  hall/NN\n",
            "  to/TO\n",
            "  discuss/VB\n",
            "  plans/NNS\n",
            "  ,/,\n",
            "  share/NN\n",
            "  intelligence/NN\n",
            "  ,/,\n",
            "  and/CC\n",
            "  make/VB\n",
            "  critical/JJ\n",
            "  decisions/NNS\n",
            "  for/IN\n",
            "  the/DT\n",
            "  empire/NN\n",
            "  's/POS\n",
            "  expansion/NN\n",
            "  ./.\n",
            "  The/DT\n",
            "  evenings/NNS\n",
            "  in/IN\n",
            "  (GPE Shivaji/NNP Maharaj/NNP)\n",
            "  's/POS\n",
            "  court/NN\n",
            "  were/VBD\n",
            "  vibrant/JJ\n",
            "  with/IN\n",
            "  activity/NN\n",
            "  ./.\n",
            "  He/PRP\n",
            "  would/MD\n",
            "  host/VB\n",
            "  feasts/NNS\n",
            "  and/CC\n",
            "  gatherings/NNS\n",
            "  to/TO\n",
            "  bolster/VB\n",
            "  the/DT\n",
            "  morale/NN\n",
            "  of/IN\n",
            "  his/PRP$\n",
            "  soldiers/NNS\n",
            "  and/CC\n",
            "  celebrate/NN\n",
            "  victories/NNS\n",
            "  ./.\n",
            "  During/IN\n",
            "  these/DT\n",
            "  events/NNS\n",
            "  ,/,\n",
            "  (PERSON Shivaji/NNP Maharaj/NNP)\n",
            "  would/MD\n",
            "  address/VB\n",
            "  his/PRP$\n",
            "  people/NNS\n",
            "  ,/,\n",
            "  sharing/VBG\n",
            "  his/PRP$\n",
            "  vision/NN\n",
            "  for/IN\n",
            "  a/DT\n",
            "  prosperous/JJ\n",
            "  and/CC\n",
            "  united/JJ\n",
            "  (PERSON Maratha/NNP Empire/NNP)\n",
            "  ./.\n",
            "  His/PRP$\n",
            "  leadership/NN\n",
            "  inspired/VBD\n",
            "  loyalty/NN\n",
            "  and/CC\n",
            "  courage/NN\n",
            "  among/IN\n",
            "  his/PRP$\n",
            "  subjects/NNS\n",
            "  ./.\n",
            "  As/IN\n",
            "  night/NN\n",
            "  fell/VBD\n",
            "  ,/,\n",
            "  (PERSON Shivaji/NNP Maharaj/NNP)\n",
            "  would/MD\n",
            "  retire/VB\n",
            "  to/TO\n",
            "  his/PRP$\n",
            "  quarters/NNS\n",
            "  ,/,\n",
            "  reflecting/VBG\n",
            "  on/IN\n",
            "  the/DT\n",
            "  day/NN\n",
            "  's/POS\n",
            "  achievements/NNS\n",
            "  and/CC\n",
            "  preparing/VBG\n",
            "  for/IN\n",
            "  the/DT\n",
            "  challenges/NNS\n",
            "  ahead/RB\n",
            "  ./.\n",
            "  His/PRP$\n",
            "  dreams/NNS\n",
            "  were/VBD\n",
            "  filled/VBN\n",
            "  with/IN\n",
            "  visions/NNS\n",
            "  of/IN\n",
            "  a/DT\n",
            "  strong/JJ\n",
            "  and/CC\n",
            "  resilient/JJ\n",
            "  empire/NN\n",
            "  ,/,\n",
            "  where/WRB\n",
            "  justice/NN\n",
            "  and/CC\n",
            "  valor/NN\n",
            "  would/MD\n",
            "  prevail/VB\n",
            "  ./.)\n"
          ]
        }
      ]
    },
    {
      "cell_type": "code",
      "source": [
        "#9. Term Frequency\n",
        "tf=story.count(\"Shivaji\")/len(story)\n",
        "print(tf)"
      ],
      "metadata": {
        "colab": {
          "base_uri": "https://localhost:8080/"
        },
        "id": "fa_azAQZvnZV",
        "outputId": "cc4d04a8-80dc-4da3-964b-6767aff505cd"
      },
      "id": "fa_azAQZvnZV",
      "execution_count": 64,
      "outputs": [
        {
          "output_type": "stream",
          "name": "stdout",
          "text": [
            "0.004618937644341801\n"
          ]
        }
      ]
    },
    {
      "cell_type": "code",
      "source": [
        "#10 Frequency Graph\n",
        "term_counts = Counter(remove_punct(story).split())\n",
        "top_10_terms = term_counts.most_common(10)\n",
        "terms, counts = zip(*top_10_terms)\n",
        "plt.figure(figsize=(10, 6))\n",
        "plt.bar(terms, counts, color='skyblue')\n",
        "plt.xlabel('Words')\n",
        "plt.ylabel('Frequency')\n",
        "plt.title('Top 10 Most Frequent Words')\n",
        "plt.xticks(rotation=45)\n",
        "plt.show()"
      ],
      "metadata": {
        "colab": {
          "base_uri": "https://localhost:8080/",
          "height": 600
        },
        "id": "P_HYYTrAyxDU",
        "outputId": "191f3668-fe68-4d57-8536-64ee1cb047f3"
      },
      "id": "P_HYYTrAyxDU",
      "execution_count": 84,
      "outputs": [
        {
          "output_type": "display_data",
          "data": {
            "text/plain": [
              "<Figure size 1000x600 with 1 Axes>"
            ],
            "image/png": "[encoded data removed]"
          },
          "metadata": {}
        }
      ]
    },
    {
      "cell_type": "code",
      "source": [
        "#11. Token Count\n",
        "print(len(term_counts))"
      ],
      "metadata": {
        "colab": {
          "base_uri": "https://localhost:8080/"
        },
        "id": "yZA8xzBvw4aW",
        "outputId": "abf69d18-a60d-4e0f-95bd-93be9df7dc49"
      },
      "id": "yZA8xzBvw4aW",
      "execution_count": 85,
      "outputs": [
        {
          "output_type": "stream",
          "name": "stdout",
          "text": [
            "125\n"
          ]
        }
      ]
    },
    {
      "cell_type": "code",
      "source": [
        "#12. Sentence Count\n",
        "print(len(sentence_token))"
      ],
      "metadata": {
        "colab": {
          "base_uri": "https://localhost:8080/"
        },
        "id": "4x9tTthzxDol",
        "outputId": "8a59eb33-713a-472f-a7fc-8eb6c41a2624"
      },
      "id": "4x9tTthzxDol",
      "execution_count": 66,
      "outputs": [
        {
          "output_type": "stream",
          "name": "stdout",
          "text": [
            "11\n"
          ]
        }
      ]
    },
    {
      "cell_type": "code",
      "source": [
        "#13. Stopwords Count\n",
        "stop_words = set(stopwords.words('english'))\n",
        "translator=story.translate(str.maketrans('', '', string.punctuation))\n",
        "token=word_tokenize(translator.lower())\n",
        "stopword_counts=Counter(i for i in token if i in stop_words)\n",
        "print(stopword_counts.most_common(3))"
      ],
      "metadata": {
        "colab": {
          "base_uri": "https://localhost:8080/"
        },
        "id": "5wBYqT7pxPtc",
        "outputId": "824765cb-cf40-4651-c874-cae35b5f73ac"
      },
      "id": "5wBYqT7pxPtc",
      "execution_count": 90,
      "outputs": [
        {
          "output_type": "stream",
          "name": "stdout",
          "text": [
            "[('the', 13), ('and', 13), ('his', 11)]\n"
          ]
        }
      ]
    },
    {
      "cell_type": "code",
      "source": [
        "#14. Longest Word\n",
        "print(max(token, key=len),len(max(token, key=len)))\n"
      ],
      "metadata": {
        "colab": {
          "base_uri": "https://localhost:8080/"
        },
        "id": "SEdjm5pT2rvD",
        "outputId": "2f0b47ef-a8a8-4199-8512-3f6eb75bcc65"
      },
      "id": "SEdjm5pT2rvD",
      "execution_count": 91,
      "outputs": [
        {
          "output_type": "stream",
          "name": "stdout",
          "text": [
            "intelligence 12\n"
          ]
        }
      ]
    },
    {
      "cell_type": "code",
      "source": [
        "nouns = []\n",
        "for i in token:\n",
        "  for word,pos in nltk.pos_tag(nltk.word_tokenize(str(i))):\n",
        "    if (pos == 'NN' or pos == 'NNP' or pos == 'NNS' or pos == 'NNPS'):\n",
        "      nouns.append(i)\n",
        "print(i)"
      ],
      "metadata": {
        "colab": {
          "base_uri": "https://localhost:8080/"
        },
        "id": "USnX59Ey3iGz",
        "outputId": "8126bafa-242d-4b20-b2ce-d7df25db1f0d"
      },
      "id": "USnX59Ey3iGz",
      "execution_count": 95,
      "outputs": [
        {
          "output_type": "stream",
          "name": "stdout",
          "text": [
            "prevail\n"
          ]
        }
      ]
    },
    {
      "cell_type": "code",
      "source": [
        "#19.\n",
        "nlp = spacy.load(\"en_core_web_sm\")\n",
        "ner_categories = [\"PERSON\",\"GPE\"]\n",
        "doc=nlp(story)\n",
        "res=[]\n",
        "for i in doc.ents:\n",
        "  if i.label_ in ner_categories:\n",
        "    res.append((i.text, i.label_))\n",
        "print(set(res))"
      ],
      "metadata": {
        "colab": {
          "base_uri": "https://localhost:8080/"
        },
        "id": "JJQJPKza3PFM",
        "outputId": "ecd5890e-b2c4-48eb-e32f-f01b03e9f0d0"
      },
      "id": "JJQJPKza3PFM",
      "execution_count": 92,
      "outputs": [
        {
          "output_type": "stream",
          "name": "stdout",
          "text": [
            "{('Shivaji Maharaj’s', 'PERSON'), ('Maratha Empire', 'PERSON'), ('the Raigad Fort', 'GPE'), ('the Maratha Empire', 'GPE'), (\"Shivaji Maharaj's\", 'PERSON'), ('Shivaji Maharaj', 'PERSON')}\n"
          ]
        }
      ]
    },
    {
      "cell_type": "code",
      "source": [
        "#20.\n",
        "c=Counter(token)\n",
        "print(c['kingdom'],c['feast'])"
      ],
      "metadata": {
        "colab": {
          "base_uri": "https://localhost:8080/"
        },
        "id": "VD-yVY5M4hrT",
        "outputId": "7b332f79-19d2-44bd-9278-c330b483988e"
      },
      "id": "VD-yVY5M4hrT",
      "execution_count": 100,
      "outputs": [
        {
          "output_type": "stream",
          "name": "stdout",
          "text": [
            "1 0\n"
          ]
        }
      ]
    }
  ],
  "metadata": {
    "kernelspec": {
      "display_name": "Python 3 (ipykernel)",
      "language": "python",
      "name": "python3"
    },
    "language_info": {
      "codemirror_mode": {
        "name": "ipython",
        "version": 3
      },
      "file_extension": ".py",
      "mimetype": "text/x-python",
      "name": "python",
      "nbconvert_exporter": "python",
      "pygments_lexer": "ipython3",
      "version": "3.10.12"
    },
    "colab": {
      "provenance": []
    }
  },
  "nbformat": 4,
  "nbformat_minor": 5
}